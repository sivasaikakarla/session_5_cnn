{
  "cells": [
    {
      "cell_type": "code",
      "execution_count": null,
      "metadata": {
        "colab": {
          "base_uri": "https://localhost:8080/"
        },
        "id": "rbmxnIFKW4tf",
        "outputId": "f645ac67-1cf0-4bbc-c63f-38ef4e54c730"
      },
      "outputs": [
        {
          "name": "stdout",
          "output_type": "stream",
          "text": [
            "Using device: cuda\n",
            "----------------------------------------------------------------\n",
            "        Layer (type)               Output Shape         Param #\n",
            "================================================================\n",
            "            Conv2d-1           [-1, 16, 28, 28]             144\n",
            "       BatchNorm2d-2           [-1, 16, 28, 28]              32\n",
            "              ReLU-3           [-1, 16, 28, 28]               0\n",
            "           Dropout-4           [-1, 16, 28, 28]               0\n",
            "            Conv2d-5           [-1, 32, 28, 28]           4,608\n",
            "       BatchNorm2d-6           [-1, 32, 28, 28]              64\n",
            "              ReLU-7           [-1, 32, 28, 28]               0\n",
            "           Dropout-8           [-1, 32, 28, 28]               0\n",
            "         MaxPool2d-9           [-1, 32, 14, 14]               0\n",
            "           Conv2d-10           [-1, 16, 14, 14]             512\n",
            "      BatchNorm2d-11           [-1, 16, 14, 14]              32\n",
            "             ReLU-12           [-1, 16, 14, 14]               0\n",
            "           Conv2d-13           [-1, 32, 14, 14]           4,608\n",
            "      BatchNorm2d-14           [-1, 32, 14, 14]              64\n",
            "             ReLU-15           [-1, 32, 14, 14]               0\n",
            "          Dropout-16           [-1, 32, 14, 14]               0\n",
            "           Conv2d-17           [-1, 32, 14, 14]           9,216\n",
            "      BatchNorm2d-18           [-1, 32, 14, 14]              64\n",
            "             ReLU-19           [-1, 32, 14, 14]               0\n",
            "          Dropout-20           [-1, 32, 14, 14]               0\n",
            "AdaptiveAvgPool2d-21             [-1, 32, 1, 1]               0\n",
            "           Conv2d-22             [-1, 10, 1, 1]             320\n",
            "================================================================\n",
            "Total params: 19,664\n",
            "Trainable params: 19,664\n",
            "Non-trainable params: 0\n",
            "----------------------------------------------------------------\n",
            "Input size (MB): 0.00\n",
            "Forward/backward pass size (MB): 1.65\n",
            "Params size (MB): 0.08\n",
            "Estimated Total Size (MB): 1.73\n",
            "----------------------------------------------------------------\n",
            "Epoch 1\n"
          ]
        },
        {
          "name": "stderr",
          "output_type": "stream",
          "text": [
            "Loss=0.7161 LR=0.003001 Acc=60.54: 100%|██████████| 469/469 [00:25<00:00, 18.73it/s]\n"
          ]
        },
        {
          "name": "stdout",
          "output_type": "stream",
          "text": [
            "\n",
            "Test set: Avg loss: 0.3449, Accuracy: 9033/10000 (90.33%)\n",
            "\n",
            "Epoch 2\n"
          ]
        },
        {
          "name": "stderr",
          "output_type": "stream",
          "text": [
            "Loss=0.4342 LR=0.005402 Acc=85.08: 100%|██████████| 469/469 [00:25<00:00, 18.14it/s]\n"
          ]
        },
        {
          "name": "stdout",
          "output_type": "stream",
          "text": [
            "\n",
            "Test set: Avg loss: 0.1416, Accuracy: 9608/10000 (96.08%)\n",
            "\n",
            "Epoch 3\n"
          ]
        },
        {
          "name": "stderr",
          "output_type": "stream",
          "text": [
            "Loss=0.3046 LR=0.007803 Acc=87.61: 100%|██████████| 469/469 [00:24<00:00, 18.92it/s]\n"
          ]
        },
        {
          "name": "stdout",
          "output_type": "stream",
          "text": [
            "\n",
            "Test set: Avg loss: 0.1299, Accuracy: 9607/10000 (96.07%)\n",
            "\n",
            "Epoch 4\n"
          ]
        },
        {
          "name": "stderr",
          "output_type": "stream",
          "text": [
            "Loss=0.4072 LR=0.010203 Acc=88.67: 100%|██████████| 469/469 [00:25<00:00, 18.33it/s]\n"
          ]
        },
        {
          "name": "stdout",
          "output_type": "stream",
          "text": [
            "\n",
            "Test set: Avg loss: 0.1166, Accuracy: 9639/10000 (96.39%)\n",
            "\n",
            "Epoch 5\n"
          ]
        },
        {
          "name": "stderr",
          "output_type": "stream",
          "text": [
            "Loss=0.5040 LR=0.012604 Acc=89.62: 100%|██████████| 469/469 [00:26<00:00, 17.87it/s]\n"
          ]
        },
        {
          "name": "stdout",
          "output_type": "stream",
          "text": [
            "\n",
            "Test set: Avg loss: 0.1505, Accuracy: 9542/10000 (95.42%)\n",
            "\n",
            "Epoch 6\n"
          ]
        },
        {
          "name": "stderr",
          "output_type": "stream",
          "text": [
            "Loss=0.3854 LR=0.014998 Acc=89.94: 100%|██████████| 469/469 [00:25<00:00, 18.66it/s]\n"
          ]
        },
        {
          "name": "stdout",
          "output_type": "stream",
          "text": [
            "\n",
            "Test set: Avg loss: 0.1116, Accuracy: 9641/10000 (96.41%)\n",
            "\n",
            "Epoch 7\n"
          ]
        },
        {
          "name": "stderr",
          "output_type": "stream",
          "text": [
            "Loss=0.2758 LR=0.013926 Acc=90.42: 100%|██████████| 469/469 [00:24<00:00, 18.99it/s]\n"
          ]
        },
        {
          "name": "stdout",
          "output_type": "stream",
          "text": [
            "\n",
            "Test set: Avg loss: 0.0471, Accuracy: 9851/10000 (98.51%)\n",
            "\n",
            "Epoch 8\n"
          ]
        },
        {
          "name": "stderr",
          "output_type": "stream",
          "text": [
            "Loss=0.3483 LR=0.012855 Acc=91.09: 100%|██████████| 469/469 [00:24<00:00, 18.93it/s]\n"
          ]
        },
        {
          "name": "stdout",
          "output_type": "stream",
          "text": [
            "\n",
            "Test set: Avg loss: 0.0986, Accuracy: 9677/10000 (96.77%)\n",
            "\n",
            "Epoch 9\n"
          ]
        },
        {
          "name": "stderr",
          "output_type": "stream",
          "text": [
            "Loss=0.1626 LR=0.011783 Acc=91.30: 100%|██████████| 469/469 [00:24<00:00, 19.21it/s]\n"
          ]
        },
        {
          "name": "stdout",
          "output_type": "stream",
          "text": [
            "\n",
            "Test set: Avg loss: 0.0918, Accuracy: 9738/10000 (97.38%)\n",
            "\n",
            "Epoch 10\n"
          ]
        },
        {
          "name": "stderr",
          "output_type": "stream",
          "text": [
            "Loss=0.2863 LR=0.010712 Acc=91.71: 100%|██████████| 469/469 [00:24<00:00, 18.97it/s]\n"
          ]
        },
        {
          "name": "stdout",
          "output_type": "stream",
          "text": [
            "\n",
            "Test set: Avg loss: 0.0604, Accuracy: 9808/10000 (98.08%)\n",
            "\n",
            "Epoch 11\n"
          ]
        },
        {
          "name": "stderr",
          "output_type": "stream",
          "text": [
            "Loss=0.2377 LR=0.009641 Acc=91.98: 100%|██████████| 469/469 [00:24<00:00, 18.79it/s]\n"
          ]
        },
        {
          "name": "stdout",
          "output_type": "stream",
          "text": [
            "\n",
            "Test set: Avg loss: 0.0666, Accuracy: 9795/10000 (97.95%)\n",
            "\n",
            "Epoch 12\n"
          ]
        },
        {
          "name": "stderr",
          "output_type": "stream",
          "text": [
            "Loss=0.2666 LR=0.008569 Acc=92.18: 100%|██████████| 469/469 [00:24<00:00, 19.42it/s]\n"
          ]
        },
        {
          "name": "stdout",
          "output_type": "stream",
          "text": [
            "\n",
            "Test set: Avg loss: 0.0552, Accuracy: 9835/10000 (98.35%)\n",
            "\n",
            "Epoch 13\n"
          ]
        },
        {
          "name": "stderr",
          "output_type": "stream",
          "text": [
            "Loss=0.2124 LR=0.007498 Acc=92.33: 100%|██████████| 469/469 [00:24<00:00, 19.52it/s]\n"
          ]
        },
        {
          "name": "stdout",
          "output_type": "stream",
          "text": [
            "\n",
            "Test set: Avg loss: 0.0652, Accuracy: 9795/10000 (97.95%)\n",
            "\n",
            "Epoch 14\n"
          ]
        },
        {
          "name": "stderr",
          "output_type": "stream",
          "text": [
            "Loss=0.1837 LR=0.006426 Acc=92.52: 100%|██████████| 469/469 [00:24<00:00, 19.50it/s]\n"
          ]
        },
        {
          "name": "stdout",
          "output_type": "stream",
          "text": [
            "\n",
            "Test set: Avg loss: 0.0427, Accuracy: 9870/10000 (98.70%)\n",
            "\n",
            "Epoch 15\n"
          ]
        },
        {
          "name": "stderr",
          "output_type": "stream",
          "text": [
            "Loss=0.2166 LR=0.005355 Acc=92.71: 100%|██████████| 469/469 [00:23<00:00, 19.58it/s]\n"
          ]
        },
        {
          "name": "stdout",
          "output_type": "stream",
          "text": [
            "\n",
            "Test set: Avg loss: 0.0487, Accuracy: 9850/10000 (98.50%)\n",
            "\n",
            "Epoch 16\n"
          ]
        },
        {
          "name": "stderr",
          "output_type": "stream",
          "text": [
            "Loss=0.3447 LR=0.004283 Acc=92.94: 100%|██████████| 469/469 [00:23<00:00, 19.69it/s]\n"
          ]
        },
        {
          "name": "stdout",
          "output_type": "stream",
          "text": [
            "\n",
            "Test set: Avg loss: 0.0475, Accuracy: 9852/10000 (98.52%)\n",
            "\n",
            "Epoch 17\n"
          ]
        },
        {
          "name": "stderr",
          "output_type": "stream",
          "text": [
            "Loss=0.1100 LR=0.003212 Acc=93.27: 100%|██████████| 469/469 [00:25<00:00, 18.17it/s]\n"
          ]
        },
        {
          "name": "stdout",
          "output_type": "stream",
          "text": [
            "\n",
            "Test set: Avg loss: 0.0422, Accuracy: 9870/10000 (98.70%)\n",
            "\n",
            "Epoch 18\n"
          ]
        },
        {
          "name": "stderr",
          "output_type": "stream",
          "text": [
            "Loss=0.2463 LR=0.002141 Acc=93.51: 100%|██████████| 469/469 [00:25<00:00, 18.62it/s]\n"
          ]
        },
        {
          "name": "stdout",
          "output_type": "stream",
          "text": [
            "\n",
            "Test set: Avg loss: 0.0346, Accuracy: 9886/10000 (98.86%)\n",
            "\n",
            "Epoch 19\n"
          ]
        },
        {
          "name": "stderr",
          "output_type": "stream",
          "text": [
            "Loss=0.3769 LR=0.001069 Acc=93.77: 100%|██████████| 469/469 [00:25<00:00, 18.74it/s]\n"
          ]
        },
        {
          "name": "stdout",
          "output_type": "stream",
          "text": [
            "\n",
            "Test set: Avg loss: 0.0319, Accuracy: 9894/10000 (98.94%)\n",
            "\n",
            "Epoch 20\n"
          ]
        },
        {
          "name": "stderr",
          "output_type": "stream",
          "text": [
            "Loss=0.1407 LR=-0.000002 Acc=93.94: 100%|██████████| 469/469 [00:24<00:00, 18.83it/s]\n"
          ]
        },
        {
          "name": "stdout",
          "output_type": "stream",
          "text": [
            "\n",
            "Test set: Avg loss: 0.0320, Accuracy: 9896/10000 (98.96%)\n",
            "\n"
          ]
        }
      ],
      "source": [
        "import torch\n",
        "import torch.nn as nn\n",
        "import torch.nn.functional as F\n",
        "import torch.optim as optim\n",
        "from torchvision import datasets, transforms\n",
        "from torch.optim.lr_scheduler import OneCycleLR\n",
        "from torchsummary import summary\n",
        "from tqdm import tqdm\n",
        "import numpy as np\n",
        "\n",
        "use_cuda = torch.cuda.is_available()\n",
        "device = torch.device(\"cuda\" if use_cuda else \"cpu\")\n",
        "print(f\"Using device: {device}\")\n",
        "\n",
        "class Cutout(object):\n",
        "    def __init__(self, n_holes, length):\n",
        "        self.n_holes = n_holes\n",
        "        self.length = length\n",
        "\n",
        "    def __call__(self, img):\n",
        "        h, w = img.size(1), img.size(2)\n",
        "        mask = np.ones((h, w), np.float32)\n",
        "        for n in range(self.n_holes):\n",
        "            y, x = np.random.randint(h), np.random.randint(w)\n",
        "            y1, y2 = np.clip(y - self.length // 2, 0, h), np.clip(y + self.length // 2, 0, h)\n",
        "            x1, x2 = np.clip(x - self.length // 2, 0, w), np.clip(x + self.length // 2, 0, w)\n",
        "            mask[y1: y2, x1: x2] = 0.\n",
        "        mask = torch.from_numpy(mask).expand_as(img)\n",
        "        return img * mask\n",
        "\n",
        "torch.manual_seed(1)\n",
        "batch_size = 128\n",
        "train_transforms = transforms.Compose([\n",
        "    transforms.RandomRotation((-7.0, 7.0), fill=(0.1307,)),\n",
        "    transforms.ToTensor(),\n",
        "    transforms.Normalize((0.1307,), (0.3081,)),\n",
        "    Cutout(n_holes=1, length=16)\n",
        "])\n",
        "test_transforms = transforms.Compose([\n",
        "    transforms.ToTensor(),\n",
        "    transforms.Normalize((0.1307,), (0.3081,))\n",
        "])\n",
        "kwargs = {'num_workers': 4, 'pin_memory': True} if use_cuda else {}\n",
        "train_loader = torch.utils.data.DataLoader(datasets.MNIST('../data', train=True, download=True, transform=train_transforms), batch_size=batch_size, shuffle=True, **kwargs)\n",
        "test_loader = torch.utils.data.DataLoader(datasets.MNIST('../data', train=False, transform=test_transforms), batch_size=batch_size, shuffle=True, **kwargs)\n",
        "\n",
        "class Net(nn.Module):\n",
        "    def __init__(self):\n",
        "        super(Net, self).__init__()\n",
        "\n",
        "        self.convblock1 = nn.Sequential(\n",
        "            nn.Conv2d(in_channels=1, out_channels=16, kernel_size=3, padding=1, bias=False),\n",
        "            nn.BatchNorm2d(16), nn.ReLU(), nn.Dropout(0.1),\n",
        "            nn.Conv2d(in_channels=16, out_channels=32, kernel_size=3, padding=1, bias=False),\n",
        "            nn.BatchNorm2d(32), nn.ReLU(), nn.Dropout(0.1)\n",
        "        ) # output_size = 28\n",
        "\n",
        "        self.transblock1 = nn.Sequential(\n",
        "            nn.MaxPool2d(2, 2), # output_size = 14\n",
        "            nn.Conv2d(in_channels=32, out_channels=16, kernel_size=1, bias=False),\n",
        "            nn.BatchNorm2d(16), nn.ReLU()\n",
        "        ) # output_size = 14\n",
        "\n",
        "\n",
        "        self.convblock2 = nn.Sequential(\n",
        "            nn.Conv2d(in_channels=16, out_channels=32, kernel_size=3, padding=1, bias=False),\n",
        "            nn.BatchNorm2d(32), nn.ReLU(), nn.Dropout(0.1),\n",
        "            nn.Conv2d(in_channels=32, out_channels=32, kernel_size=3, padding=1, bias=False),\n",
        "            nn.BatchNorm2d(32), nn.ReLU(), nn.Dropout(0.1)\n",
        "        ) # output_size = 14\n",
        "\n",
        "\n",
        "        self.gap = nn.AdaptiveAvgPool2d(1)\n",
        "        self.output_conv = nn.Conv2d(in_channels=32, out_channels=10, kernel_size=1, bias=False)\n",
        "\n",
        "    def forward(self, x):\n",
        "        x = self.convblock1(x)\n",
        "        x = self.transblock1(x)\n",
        "        x = self.convblock2(x)\n",
        "        x = self.gap(x)\n",
        "        x = self.output_conv(x)\n",
        "        x = x.view(-1, 10)\n",
        "        return F.log_softmax(x, dim=-1)\n",
        "\n",
        "model = Net().to(device)\n",
        "summary(model, input_size=(1, 28, 28))\n",
        "\n",
        "def train(model, device, train_loader, optimizer, scheduler):\n",
        "    model.train()\n",
        "    pbar = tqdm(train_loader)\n",
        "    correct, processed = 0, 0\n",
        "    for batch_idx, (data, target) in enumerate(pbar):\n",
        "        data, target = data.to(device), target.to(device)\n",
        "        optimizer.zero_grad()\n",
        "        output = model(data)\n",
        "        loss = F.nll_loss(output, target)\n",
        "        loss.backward()\n",
        "        optimizer.step()\n",
        "        scheduler.step()\n",
        "        pred = output.argmax(dim=1, keepdim=True)\n",
        "        correct += pred.eq(target.view_as(pred)).sum().item()\n",
        "        processed += len(data)\n",
        "        pbar.set_description(desc=f'Loss={loss.item():.4f} LR={scheduler.get_last_lr()[0]:.6f} Acc={100*correct/processed:0.2f}')\n",
        "\n",
        "def test(model, device, test_loader):\n",
        "    model.eval()\n",
        "    test_loss, correct = 0, 0\n",
        "    with torch.no_grad():\n",
        "        for data, target in test_loader:\n",
        "            data, target = data.to(device), target.to(device)\n",
        "            output = model(data)\n",
        "            test_loss += F.nll_loss(output, target, reduction='sum').item()\n",
        "            pred = output.argmax(dim=1, keepdim=True)\n",
        "            correct += pred.eq(target.view_as(pred)).sum().item()\n",
        "    test_loss /= len(test_loader.dataset)\n",
        "    print(f'\\nTest set: Avg loss: {test_loss:.4f}, Accuracy: {correct}/{len(test_loader.dataset)} ({100.*correct/len(test_loader.dataset):.2f}%)\\n')\n",
        "\n",
        "EPOCHS = 20\n",
        "model = Net().to(device)\n",
        "optimizer = optim.AdamW(model.parameters(), lr=0.01, weight_decay=0.01)\n",
        "scheduler = OneCycleLR(optimizer, max_lr=0.015, steps_per_epoch=len(train_loader), epochs=EPOCHS, anneal_strategy='linear')\n",
        "\n",
        "for epoch in range(1, EPOCHS + 1):\n",
        "    print(f\"Epoch {epoch}\")\n",
        "    train(model, device, train_loader, optimizer, scheduler)\n",
        "    test(model, device, test_loader)"
      ]
    }
  ],
  "metadata": {
    "accelerator": "GPU",
    "colab": {
      "gpuType": "T4",
      "provenance": []
    },
    "kernelspec": {
      "display_name": "Python 3",
      "name": "python3"
    },
    "language_info": {
      "name": "python"
    }
  },
  "nbformat": 4,
  "nbformat_minor": 0
}
