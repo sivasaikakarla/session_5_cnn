{
  "cells": [
    {
      "cell_type": "code",
      "execution_count": null,
      "metadata": {
        "colab": {
          "base_uri": "https://localhost:8080/"
        },
        "id": "xDhHBJgOisKH",
        "outputId": "3548b346-6fec-44aa-bcd3-992de838aec0"
      },
      "outputs": [
        {
          "name": "stdout",
          "output_type": "stream",
          "text": [
            "Using device: cuda\n"
          ]
        },
        {
          "name": "stderr",
          "output_type": "stream",
          "text": [
            "100%|██████████| 9.91M/9.91M [00:00<00:00, 16.9MB/s]\n",
            "100%|██████████| 28.9k/28.9k [00:00<00:00, 456kB/s]\n",
            "100%|██████████| 1.65M/1.65M [00:00<00:00, 3.61MB/s]\n",
            "100%|██████████| 4.54k/4.54k [00:00<00:00, 7.76MB/s]\n",
            "/usr/local/lib/python3.12/dist-packages/torch/utils/data/dataloader.py:627: UserWarning: This DataLoader will create 4 worker processes in total. Our suggested max number of worker in current system is 2, which is smaller than what this DataLoader is going to create. Please be aware that excessive worker creation might get DataLoader running slow or even freeze, lower the worker number to avoid potential slowness/freeze if necessary.\n",
            "  warnings.warn(\n"
          ]
        },
        {
          "name": "stdout",
          "output_type": "stream",
          "text": [
            "----------------------------------------------------------------\n",
            "        Layer (type)               Output Shape         Param #\n",
            "================================================================\n",
            "            Conv2d-1           [-1, 16, 28, 28]             144\n",
            "       BatchNorm2d-2           [-1, 16, 28, 28]              32\n",
            "              ReLU-3           [-1, 16, 28, 28]               0\n",
            "           Dropout-4           [-1, 16, 28, 28]               0\n",
            "            Conv2d-5           [-1, 32, 28, 28]           4,608\n",
            "       BatchNorm2d-6           [-1, 32, 28, 28]              64\n",
            "              ReLU-7           [-1, 32, 28, 28]               0\n",
            "           Dropout-8           [-1, 32, 28, 28]               0\n",
            "         MaxPool2d-9           [-1, 32, 14, 14]               0\n",
            "           Conv2d-10           [-1, 16, 14, 14]             512\n",
            "      BatchNorm2d-11           [-1, 16, 14, 14]              32\n",
            "             ReLU-12           [-1, 16, 14, 14]               0\n",
            "           Conv2d-13           [-1, 32, 14, 14]           4,608\n",
            "      BatchNorm2d-14           [-1, 32, 14, 14]              64\n",
            "             ReLU-15           [-1, 32, 14, 14]               0\n",
            "          Dropout-16           [-1, 32, 14, 14]               0\n",
            "           Conv2d-17           [-1, 32, 14, 14]           9,216\n",
            "      BatchNorm2d-18           [-1, 32, 14, 14]              64\n",
            "             ReLU-19           [-1, 32, 14, 14]               0\n",
            "          Dropout-20           [-1, 32, 14, 14]               0\n",
            "AdaptiveAvgPool2d-21             [-1, 32, 1, 1]               0\n",
            "           Conv2d-22             [-1, 10, 1, 1]             320\n",
            "================================================================\n",
            "Total params: 19,664\n",
            "Trainable params: 19,664\n",
            "Non-trainable params: 0\n",
            "----------------------------------------------------------------\n",
            "Input size (MB): 0.00\n",
            "Forward/backward pass size (MB): 1.65\n",
            "Params size (MB): 0.08\n",
            "Estimated Total Size (MB): 1.73\n",
            "----------------------------------------------------------------\n",
            "Epoch 1\n"
          ]
        },
        {
          "name": "stderr",
          "output_type": "stream",
          "text": [
            "Loss=0.6672 LR=0.004001 Acc=57.41: 100%|██████████| 469/469 [00:23<00:00, 19.66it/s]\n"
          ]
        },
        {
          "name": "stdout",
          "output_type": "stream",
          "text": [
            "\n",
            "Test set: Avg loss: 0.4810, Accuracy: 8524/10000 (85.24%)\n",
            "\n",
            "Epoch 2\n"
          ]
        },
        {
          "name": "stderr",
          "output_type": "stream",
          "text": [
            "Loss=0.5425 LR=0.007202 Acc=80.06: 100%|██████████| 469/469 [00:23<00:00, 20.13it/s]\n"
          ]
        },
        {
          "name": "stdout",
          "output_type": "stream",
          "text": [
            "\n",
            "Test set: Avg loss: 0.1333, Accuracy: 9566/10000 (95.66%)\n",
            "\n",
            "Epoch 3\n"
          ]
        },
        {
          "name": "stderr",
          "output_type": "stream",
          "text": [
            "Loss=0.2821 LR=0.010403 Acc=83.68: 100%|██████████| 469/469 [00:23<00:00, 19.87it/s]\n"
          ]
        },
        {
          "name": "stdout",
          "output_type": "stream",
          "text": [
            "\n",
            "Test set: Avg loss: 0.1025, Accuracy: 9676/10000 (96.76%)\n",
            "\n",
            "Epoch 4\n"
          ]
        },
        {
          "name": "stderr",
          "output_type": "stream",
          "text": [
            "Loss=0.4846 LR=0.013605 Acc=84.72: 100%|██████████| 469/469 [00:23<00:00, 19.81it/s]\n"
          ]
        },
        {
          "name": "stdout",
          "output_type": "stream",
          "text": [
            "\n",
            "Test set: Avg loss: 0.1138, Accuracy: 9651/10000 (96.51%)\n",
            "\n",
            "Epoch 5\n"
          ]
        },
        {
          "name": "stderr",
          "output_type": "stream",
          "text": [
            "Loss=0.6716 LR=0.016806 Acc=85.64: 100%|██████████| 469/469 [00:23<00:00, 19.64it/s]\n"
          ]
        },
        {
          "name": "stdout",
          "output_type": "stream",
          "text": [
            "\n",
            "Test set: Avg loss: 0.1228, Accuracy: 9611/10000 (96.11%)\n",
            "\n",
            "Epoch 6\n"
          ]
        },
        {
          "name": "stderr",
          "output_type": "stream",
          "text": [
            "Loss=0.5944 LR=0.019997 Acc=86.12: 100%|██████████| 469/469 [00:23<00:00, 19.92it/s]\n"
          ]
        },
        {
          "name": "stdout",
          "output_type": "stream",
          "text": [
            "\n",
            "Test set: Avg loss: 0.0554, Accuracy: 9809/10000 (98.09%)\n",
            "\n",
            "Epoch 7\n"
          ]
        },
        {
          "name": "stderr",
          "output_type": "stream",
          "text": [
            "Loss=0.3755 LR=0.018568 Acc=86.56: 100%|██████████| 469/469 [00:24<00:00, 18.96it/s]\n"
          ]
        },
        {
          "name": "stdout",
          "output_type": "stream",
          "text": [
            "\n",
            "Test set: Avg loss: 0.0822, Accuracy: 9746/10000 (97.46%)\n",
            "\n",
            "Epoch 8\n"
          ]
        },
        {
          "name": "stderr",
          "output_type": "stream",
          "text": [
            "Loss=0.2837 LR=0.017140 Acc=87.62: 100%|██████████| 469/469 [00:24<00:00, 19.14it/s]\n"
          ]
        },
        {
          "name": "stdout",
          "output_type": "stream",
          "text": [
            "\n",
            "Test set: Avg loss: 0.0520, Accuracy: 9816/10000 (98.16%)\n",
            "\n",
            "Epoch 9\n"
          ]
        },
        {
          "name": "stderr",
          "output_type": "stream",
          "text": [
            "Loss=0.2989 LR=0.015711 Acc=87.85: 100%|██████████| 469/469 [00:23<00:00, 19.75it/s]\n"
          ]
        },
        {
          "name": "stdout",
          "output_type": "stream",
          "text": [
            "\n",
            "Test set: Avg loss: 0.0510, Accuracy: 9835/10000 (98.35%)\n",
            "\n",
            "Epoch 10\n"
          ]
        },
        {
          "name": "stderr",
          "output_type": "stream",
          "text": [
            "Loss=0.3472 LR=0.014283 Acc=88.32: 100%|██████████| 469/469 [00:25<00:00, 18.63it/s]\n"
          ]
        },
        {
          "name": "stdout",
          "output_type": "stream",
          "text": [
            "\n",
            "Test set: Avg loss: 0.0444, Accuracy: 9852/10000 (98.52%)\n",
            "\n",
            "Epoch 11\n"
          ]
        },
        {
          "name": "stderr",
          "output_type": "stream",
          "text": [
            "Loss=0.3519 LR=0.012854 Acc=88.61: 100%|██████████| 469/469 [00:24<00:00, 19.45it/s]\n"
          ]
        },
        {
          "name": "stdout",
          "output_type": "stream",
          "text": [
            "\n",
            "Test set: Avg loss: 0.0438, Accuracy: 9857/10000 (98.57%)\n",
            "\n",
            "Epoch 12\n"
          ]
        },
        {
          "name": "stderr",
          "output_type": "stream",
          "text": [
            "Loss=0.2176 LR=0.011426 Acc=88.72: 100%|██████████| 469/469 [00:24<00:00, 19.25it/s]\n"
          ]
        },
        {
          "name": "stdout",
          "output_type": "stream",
          "text": [
            "\n",
            "Test set: Avg loss: 0.0344, Accuracy: 9896/10000 (98.96%)\n",
            "\n",
            "Epoch 13\n"
          ]
        },
        {
          "name": "stderr",
          "output_type": "stream",
          "text": [
            "Loss=0.2429 LR=0.009997 Acc=89.02: 100%|██████████| 469/469 [00:24<00:00, 19.32it/s]\n"
          ]
        },
        {
          "name": "stdout",
          "output_type": "stream",
          "text": [
            "\n",
            "Test set: Avg loss: 0.0337, Accuracy: 9890/10000 (98.90%)\n",
            "\n",
            "Epoch 14\n"
          ]
        },
        {
          "name": "stderr",
          "output_type": "stream",
          "text": [
            "Loss=0.3109 LR=0.008568 Acc=89.41: 100%|██████████| 469/469 [00:24<00:00, 19.09it/s]\n"
          ]
        },
        {
          "name": "stdout",
          "output_type": "stream",
          "text": [
            "\n",
            "Test set: Avg loss: 0.0382, Accuracy: 9867/10000 (98.67%)\n",
            "\n",
            "Epoch 15\n"
          ]
        },
        {
          "name": "stderr",
          "output_type": "stream",
          "text": [
            "Loss=0.2743 LR=0.007140 Acc=89.40: 100%|██████████| 469/469 [00:24<00:00, 18.95it/s]\n"
          ]
        },
        {
          "name": "stdout",
          "output_type": "stream",
          "text": [
            "\n",
            "Test set: Avg loss: 0.0372, Accuracy: 9869/10000 (98.69%)\n",
            "\n",
            "Epoch 16\n"
          ]
        },
        {
          "name": "stderr",
          "output_type": "stream",
          "text": [
            "Loss=0.3844 LR=0.005711 Acc=89.65: 100%|██████████| 469/469 [00:24<00:00, 18.90it/s]\n"
          ]
        },
        {
          "name": "stdout",
          "output_type": "stream",
          "text": [
            "\n",
            "Test set: Avg loss: 0.0344, Accuracy: 9884/10000 (98.84%)\n",
            "\n",
            "Epoch 17\n"
          ]
        },
        {
          "name": "stderr",
          "output_type": "stream",
          "text": [
            "Loss=0.2142 LR=0.004283 Acc=90.27: 100%|██████████| 469/469 [00:24<00:00, 18.94it/s]\n"
          ]
        },
        {
          "name": "stdout",
          "output_type": "stream",
          "text": [
            "\n",
            "Test set: Avg loss: 0.0270, Accuracy: 9908/10000 (99.08%)\n",
            "\n",
            "Epoch 18\n"
          ]
        },
        {
          "name": "stderr",
          "output_type": "stream",
          "text": [
            "Loss=0.3137 LR=0.002854 Acc=90.42: 100%|██████████| 469/469 [00:24<00:00, 19.04it/s]\n"
          ]
        },
        {
          "name": "stdout",
          "output_type": "stream",
          "text": [
            "\n",
            "Test set: Avg loss: 0.0267, Accuracy: 9910/10000 (99.10%)\n",
            "\n",
            "Epoch 19\n"
          ]
        },
        {
          "name": "stderr",
          "output_type": "stream",
          "text": [
            "Loss=0.3615 LR=0.001426 Acc=90.82: 100%|██████████| 469/469 [00:24<00:00, 18.96it/s]\n"
          ]
        },
        {
          "name": "stdout",
          "output_type": "stream",
          "text": [
            "\n",
            "Test set: Avg loss: 0.0222, Accuracy: 9921/10000 (99.21%)\n",
            "\n",
            "Epoch 20\n"
          ]
        },
        {
          "name": "stderr",
          "output_type": "stream",
          "text": [
            "Loss=0.2882 LR=-0.000003 Acc=90.94: 100%|██████████| 469/469 [00:25<00:00, 18.15it/s]\n"
          ]
        },
        {
          "name": "stdout",
          "output_type": "stream",
          "text": [
            "\n",
            "Test set: Avg loss: 0.0216, Accuracy: 9921/10000 (99.21%)\n",
            "\n"
          ]
        }
      ],
      "source": [
        "import torch\n",
        "import torch.nn as nn\n",
        "import torch.nn.functional as F\n",
        "import torch.optim as optim\n",
        "from torchvision import datasets, transforms\n",
        "from torch.optim.lr_scheduler import OneCycleLR\n",
        "from torchsummary import summary\n",
        "from tqdm import tqdm\n",
        "import numpy as np\n",
        "\n",
        "use_cuda = torch.cuda.is_available()\n",
        "device = torch.device(\"cuda\" if use_cuda else \"cpu\")\n",
        "print(f\"Using device: {device}\")\n",
        "\n",
        "class Cutout(object):\n",
        "    def __init__(self, n_holes, length):\n",
        "        self.n_holes = n_holes\n",
        "        self.length = length\n",
        "\n",
        "    def __call__(self, img):\n",
        "        h, w = img.size(1), img.size(2)\n",
        "        mask = np.ones((h, w), np.float32)\n",
        "        for n in range(self.n_holes):\n",
        "            y, x = np.random.randint(h), np.random.randint(w)\n",
        "            y1, y2 = np.clip(y - self.length // 2, 0, h), np.clip(y + self.length // 2, 0, h)\n",
        "            x1, x2 = np.clip(x - self.length // 2, 0, w), np.clip(x + self.length // 2, 0, w)\n",
        "            mask[y1: y2, x1: x2] = 0.\n",
        "        mask = torch.from_numpy(mask).expand_as(img)\n",
        "        return img * mask\n",
        "\n",
        "torch.manual_seed(1)\n",
        "batch_size = 128\n",
        "train_transforms = transforms.Compose([\n",
        "    transforms.RandomAffine(degrees=7, translate=(0.1, 0.1), scale=(0.9, 1.1), shear=10, fill=0.1307),\n",
        "    transforms.ToTensor(),\n",
        "    transforms.Normalize((0.1307,), (0.3081,)),\n",
        "    Cutout(n_holes=1, length=16)\n",
        "])\n",
        "test_transforms = transforms.Compose([\n",
        "    transforms.ToTensor(),\n",
        "    transforms.Normalize((0.1307,), (0.3081,))\n",
        "])\n",
        "kwargs = {'num_workers': 4, 'pin_memory': True} if use_cuda else {}\n",
        "train_loader = torch.utils.data.DataLoader(datasets.MNIST('../data', train=True, download=True, transform=train_transforms), batch_size=batch_size, shuffle=True, **kwargs)\n",
        "test_loader = torch.utils.data.DataLoader(datasets.MNIST('../data', train=False, transform=test_transforms), batch_size=batch_size, shuffle=True, **kwargs)\n",
        "\n",
        "class Net(nn.Module):\n",
        "    def __init__(self):\n",
        "        super(Net, self).__init__()\n",
        "        self.convblock1 = nn.Sequential(\n",
        "            nn.Conv2d(in_channels=1, out_channels=16, kernel_size=3, padding=1, bias=False),\n",
        "            nn.BatchNorm2d(16), nn.ReLU(), nn.Dropout(0.1),\n",
        "            nn.Conv2d(in_channels=16, out_channels=32, kernel_size=3, padding=1, bias=False),\n",
        "            nn.BatchNorm2d(32), nn.ReLU(), nn.Dropout(0.1)\n",
        "        )\n",
        "        self.transblock1 = nn.Sequential(\n",
        "            nn.MaxPool2d(2, 2),\n",
        "            nn.Conv2d(in_channels=32, out_channels=16, kernel_size=1, bias=False),\n",
        "            nn.BatchNorm2d(16), nn.ReLU()\n",
        "        )\n",
        "        self.convblock2 = nn.Sequential(\n",
        "            nn.Conv2d(in_channels=16, out_channels=32, kernel_size=3, padding=1, bias=False),\n",
        "            nn.BatchNorm2d(32), nn.ReLU(), nn.Dropout(0.1),\n",
        "            nn.Conv2d(in_channels=32, out_channels=32, kernel_size=3, padding=1, bias=False),\n",
        "            nn.BatchNorm2d(32), nn.ReLU(), nn.Dropout(0.1)\n",
        "        )\n",
        "        self.gap = nn.AdaptiveAvgPool2d(1)\n",
        "        self.output_conv = nn.Conv2d(in_channels=32, out_channels=10, kernel_size=1, bias=False)\n",
        "\n",
        "    def forward(self, x):\n",
        "        x = self.convblock1(x)\n",
        "        x = self.transblock1(x)\n",
        "        x = self.convblock2(x)\n",
        "        x = self.gap(x)\n",
        "        x = self.output_conv(x)\n",
        "        x = x.view(-1, 10)\n",
        "        return F.log_softmax(x, dim=-1)\n",
        "\n",
        "model = Net().to(device)\n",
        "summary(model, input_size=(1, 28, 28))\n",
        "\n",
        "def train(model, device, train_loader, optimizer, scheduler):\n",
        "    model.train()\n",
        "    pbar = tqdm(train_loader)\n",
        "    correct, processed = 0, 0\n",
        "    for batch_idx, (data, target) in enumerate(pbar):\n",
        "        data, target = data.to(device), target.to(device)\n",
        "        optimizer.zero_grad()\n",
        "        output = model(data)\n",
        "        loss = F.nll_loss(output, target)\n",
        "        loss.backward()\n",
        "        optimizer.step()\n",
        "        scheduler.step()\n",
        "        pred = output.argmax(dim=1, keepdim=True)\n",
        "        correct += pred.eq(target.view_as(pred)).sum().item()\n",
        "        processed += len(data)\n",
        "        pbar.set_description(desc=f'Loss={loss.item():.4f} LR={scheduler.get_last_lr()[0]:.6f} Acc={100*correct/processed:0.2f}')\n",
        "\n",
        "def test(model, device, test_loader):\n",
        "    model.eval()\n",
        "    test_loss, correct = 0, 0\n",
        "    with torch.no_grad():\n",
        "        for data, target in test_loader:\n",
        "            data, target = data.to(device), target.to(device)\n",
        "            output = model(data)\n",
        "            test_loss += F.nll_loss(output, target, reduction='sum').item()\n",
        "            pred = output.argmax(dim=1, keepdim=True)\n",
        "            correct += pred.eq(target.view_as(pred)).sum().item()\n",
        "    test_loss /= len(test_loader.dataset)\n",
        "    print(f'\\nTest set: Avg loss: {test_loss:.4f}, Accuracy: {correct}/{len(test_loader.dataset)} ({100.*correct/len(test_loader.dataset):.2f}%)\\n')\n",
        "\n",
        "EPOCHS = 20\n",
        "model = Net().to(device)\n",
        "optimizer = optim.AdamW(model.parameters(), lr=0.01, weight_decay=0.01)\n",
        "scheduler = OneCycleLR(optimizer,\n",
        "                       max_lr=0.02, \n",
        "                       steps_per_epoch=len(train_loader),\n",
        "                       epochs=EPOCHS,\n",
        "                       anneal_strategy='linear')\n",
        "\n",
        "for epoch in range(1, EPOCHS + 1):\n",
        "    print(f\"Epoch {epoch}\")\n",
        "    train(model, device, train_loader, optimizer, scheduler)\n",
        "    test(model, device, test_loader)"
      ]
    },
    {
      "cell_type": "code",
      "execution_count": null,
      "metadata": {
        "colab": {
          "base_uri": "https://localhost:8080/"
        },
        "id": "OOAS3Yz_2wNC",
        "outputId": "276fa022-1303-4090-a852-d1b662bdf7bc"
      },
      "outputs": [
        {
          "name": "stdout",
          "output_type": "stream",
          "text": [
            "Using device: cuda\n"
          ]
        },
        {
          "name": "stderr",
          "output_type": "stream",
          "text": [
            "100%|██████████| 9.91M/9.91M [00:01<00:00, 5.04MB/s]\n",
            "100%|██████████| 28.9k/28.9k [00:00<00:00, 133kB/s]\n",
            "100%|██████████| 1.65M/1.65M [00:01<00:00, 1.26MB/s]\n",
            "100%|██████████| 4.54k/4.54k [00:00<00:00, 14.6MB/s]\n",
            "/usr/local/lib/python3.12/dist-packages/torch/utils/data/dataloader.py:627: UserWarning: This DataLoader will create 4 worker processes in total. Our suggested max number of worker in current system is 2, which is smaller than what this DataLoader is going to create. Please be aware that excessive worker creation might get DataLoader running slow or even freeze, lower the worker number to avoid potential slowness/freeze if necessary.\n",
            "  warnings.warn(\n"
          ]
        },
        {
          "name": "stdout",
          "output_type": "stream",
          "text": [
            "----------------------------------------------------------------\n",
            "        Layer (type)               Output Shape         Param #\n",
            "================================================================\n",
            "            Conv2d-1           [-1, 16, 28, 28]             144\n",
            "       BatchNorm2d-2           [-1, 16, 28, 28]              32\n",
            "              ReLU-3           [-1, 16, 28, 28]               0\n",
            "           Dropout-4           [-1, 16, 28, 28]               0\n",
            "            Conv2d-5           [-1, 32, 28, 28]           4,608\n",
            "       BatchNorm2d-6           [-1, 32, 28, 28]              64\n",
            "              ReLU-7           [-1, 32, 28, 28]               0\n",
            "           Dropout-8           [-1, 32, 28, 28]               0\n",
            "         MaxPool2d-9           [-1, 32, 14, 14]               0\n",
            "           Conv2d-10           [-1, 16, 14, 14]             512\n",
            "      BatchNorm2d-11           [-1, 16, 14, 14]              32\n",
            "             ReLU-12           [-1, 16, 14, 14]               0\n",
            "           Conv2d-13           [-1, 32, 14, 14]           4,608\n",
            "      BatchNorm2d-14           [-1, 32, 14, 14]              64\n",
            "             ReLU-15           [-1, 32, 14, 14]               0\n",
            "          Dropout-16           [-1, 32, 14, 14]               0\n",
            "           Conv2d-17           [-1, 32, 14, 14]           9,216\n",
            "      BatchNorm2d-18           [-1, 32, 14, 14]              64\n",
            "             ReLU-19           [-1, 32, 14, 14]               0\n",
            "          Dropout-20           [-1, 32, 14, 14]               0\n",
            "AdaptiveAvgPool2d-21             [-1, 32, 1, 1]               0\n",
            "           Conv2d-22             [-1, 10, 1, 1]             320\n",
            "================================================================\n",
            "Total params: 19,664\n",
            "Trainable params: 19,664\n",
            "Non-trainable params: 0\n",
            "----------------------------------------------------------------\n",
            "Input size (MB): 0.00\n",
            "Forward/backward pass size (MB): 1.65\n",
            "Params size (MB): 0.08\n",
            "Estimated Total Size (MB): 1.73\n",
            "----------------------------------------------------------------\n",
            "Epoch 1\n"
          ]
        },
        {
          "name": "stderr",
          "output_type": "stream",
          "text": [
            "Loss=0.6838 LR=0.004001 Acc=57.49: 100%|██████████| 469/469 [00:24<00:00, 19.42it/s]\n"
          ]
        },
        {
          "name": "stdout",
          "output_type": "stream",
          "text": [
            "\n",
            "Test set: Avg loss: 0.4262, Accuracy: 8670/10000 (86.70%)\n",
            "\n",
            "Epoch 2\n"
          ]
        },
        {
          "name": "stderr",
          "output_type": "stream",
          "text": [
            "Loss=0.5616 LR=0.007202 Acc=80.14: 100%|██████████| 469/469 [00:23<00:00, 20.04it/s]\n"
          ]
        },
        {
          "name": "stdout",
          "output_type": "stream",
          "text": [
            "\n",
            "Test set: Avg loss: 0.1624, Accuracy: 9444/10000 (94.44%)\n",
            "\n",
            "Epoch 3\n"
          ]
        },
        {
          "name": "stderr",
          "output_type": "stream",
          "text": [
            "Loss=0.2640 LR=0.010403 Acc=83.48: 100%|██████████| 469/469 [00:23<00:00, 19.96it/s]\n"
          ]
        },
        {
          "name": "stdout",
          "output_type": "stream",
          "text": [
            "\n",
            "Test set: Avg loss: 0.0934, Accuracy: 9713/10000 (97.13%)\n",
            "\n",
            "Epoch 4\n"
          ]
        },
        {
          "name": "stderr",
          "output_type": "stream",
          "text": [
            "Loss=0.4887 LR=0.013605 Acc=84.62: 100%|██████████| 469/469 [00:23<00:00, 19.94it/s]\n"
          ]
        },
        {
          "name": "stdout",
          "output_type": "stream",
          "text": [
            "\n",
            "Test set: Avg loss: 0.0880, Accuracy: 9720/10000 (97.20%)\n",
            "\n",
            "Epoch 5\n"
          ]
        },
        {
          "name": "stderr",
          "output_type": "stream",
          "text": [
            "Loss=0.6058 LR=0.016806 Acc=85.77: 100%|██████████| 469/469 [00:23<00:00, 20.07it/s]\n"
          ]
        },
        {
          "name": "stdout",
          "output_type": "stream",
          "text": [
            "\n",
            "Test set: Avg loss: 0.0619, Accuracy: 9816/10000 (98.16%)\n",
            "\n",
            "Epoch 6\n"
          ]
        },
        {
          "name": "stderr",
          "output_type": "stream",
          "text": [
            "Loss=0.5585 LR=0.019997 Acc=86.23: 100%|██████████| 469/469 [00:24<00:00, 19.01it/s]\n"
          ]
        },
        {
          "name": "stdout",
          "output_type": "stream",
          "text": [
            "\n",
            "Test set: Avg loss: 0.0813, Accuracy: 9729/10000 (97.29%)\n",
            "\n",
            "Epoch 7\n"
          ]
        },
        {
          "name": "stderr",
          "output_type": "stream",
          "text": [
            "Loss=0.3345 LR=0.018568 Acc=87.05: 100%|██████████| 469/469 [00:23<00:00, 19.56it/s]\n"
          ]
        },
        {
          "name": "stdout",
          "output_type": "stream",
          "text": [
            "\n",
            "Test set: Avg loss: 0.0557, Accuracy: 9816/10000 (98.16%)\n",
            "\n",
            "Epoch 8\n"
          ]
        },
        {
          "name": "stderr",
          "output_type": "stream",
          "text": [
            "Loss=0.2733 LR=0.017140 Acc=88.03: 100%|██████████| 469/469 [00:23<00:00, 19.82it/s]\n"
          ]
        },
        {
          "name": "stdout",
          "output_type": "stream",
          "text": [
            "\n",
            "Test set: Avg loss: 0.0459, Accuracy: 9847/10000 (98.47%)\n",
            "\n",
            "Epoch 9\n"
          ]
        },
        {
          "name": "stderr",
          "output_type": "stream",
          "text": [
            "Loss=0.2842 LR=0.015711 Acc=88.25: 100%|██████████| 469/469 [00:23<00:00, 19.67it/s]\n"
          ]
        },
        {
          "name": "stdout",
          "output_type": "stream",
          "text": [
            "\n",
            "Test set: Avg loss: 0.0385, Accuracy: 9874/10000 (98.74%)\n",
            "\n",
            "Epoch 10\n"
          ]
        },
        {
          "name": "stderr",
          "output_type": "stream",
          "text": [
            "Loss=0.3386 LR=0.014283 Acc=88.67: 100%|██████████| 469/469 [00:23<00:00, 19.59it/s]\n"
          ]
        },
        {
          "name": "stdout",
          "output_type": "stream",
          "text": [
            "\n",
            "Test set: Avg loss: 0.0413, Accuracy: 9856/10000 (98.56%)\n",
            "\n",
            "Epoch 11\n"
          ]
        },
        {
          "name": "stderr",
          "output_type": "stream",
          "text": [
            "Loss=0.3318 LR=0.012854 Acc=88.93: 100%|██████████| 469/469 [00:23<00:00, 20.10it/s]\n"
          ]
        },
        {
          "name": "stdout",
          "output_type": "stream",
          "text": [
            "\n",
            "Test set: Avg loss: 0.0342, Accuracy: 9890/10000 (98.90%)\n",
            "\n",
            "Epoch 12\n"
          ]
        },
        {
          "name": "stderr",
          "output_type": "stream",
          "text": [
            "Loss=0.2687 LR=0.011426 Acc=89.13: 100%|██████████| 469/469 [00:24<00:00, 19.48it/s]\n"
          ]
        },
        {
          "name": "stdout",
          "output_type": "stream",
          "text": [
            "\n",
            "Test set: Avg loss: 0.0386, Accuracy: 9863/10000 (98.63%)\n",
            "\n",
            "Epoch 13\n"
          ]
        },
        {
          "name": "stderr",
          "output_type": "stream",
          "text": [
            "Loss=0.2568 LR=0.009997 Acc=89.52: 100%|██████████| 469/469 [00:23<00:00, 20.10it/s]\n"
          ]
        },
        {
          "name": "stdout",
          "output_type": "stream",
          "text": [
            "\n",
            "Test set: Avg loss: 0.0297, Accuracy: 9896/10000 (98.96%)\n",
            "\n",
            "Epoch 14\n"
          ]
        },
        {
          "name": "stderr",
          "output_type": "stream",
          "text": [
            "Loss=0.2615 LR=0.008568 Acc=89.73: 100%|██████████| 469/469 [00:22<00:00, 20.66it/s]\n"
          ]
        },
        {
          "name": "stdout",
          "output_type": "stream",
          "text": [
            "\n",
            "Test set: Avg loss: 0.0311, Accuracy: 9894/10000 (98.94%)\n",
            "\n",
            "Epoch 15\n"
          ]
        },
        {
          "name": "stderr",
          "output_type": "stream",
          "text": [
            "Loss=0.3211 LR=0.007140 Acc=89.77: 100%|██████████| 469/469 [00:22<00:00, 20.52it/s]\n"
          ]
        },
        {
          "name": "stdout",
          "output_type": "stream",
          "text": [
            "\n",
            "Test set: Avg loss: 0.0279, Accuracy: 9913/10000 (99.13%)\n",
            "\n",
            "Epoch 16\n"
          ]
        },
        {
          "name": "stderr",
          "output_type": "stream",
          "text": [
            "Loss=0.3581 LR=0.005711 Acc=90.25: 100%|██████████| 469/469 [00:22<00:00, 20.56it/s]\n"
          ]
        },
        {
          "name": "stdout",
          "output_type": "stream",
          "text": [
            "\n",
            "Test set: Avg loss: 0.0271, Accuracy: 9897/10000 (98.97%)\n",
            "\n",
            "Epoch 17\n"
          ]
        },
        {
          "name": "stderr",
          "output_type": "stream",
          "text": [
            "Loss=0.1860 LR=0.004283 Acc=90.52: 100%|██████████| 469/469 [00:22<00:00, 20.44it/s]\n"
          ]
        },
        {
          "name": "stdout",
          "output_type": "stream",
          "text": [
            "\n",
            "Test set: Avg loss: 0.0219, Accuracy: 9924/10000 (99.24%)\n",
            "\n",
            "Epoch 18\n"
          ]
        },
        {
          "name": "stderr",
          "output_type": "stream",
          "text": [
            "Loss=0.2676 LR=0.002854 Acc=90.69: 100%|██████████| 469/469 [00:24<00:00, 19.00it/s]\n"
          ]
        },
        {
          "name": "stdout",
          "output_type": "stream",
          "text": [
            "\n",
            "Test set: Avg loss: 0.0210, Accuracy: 9925/10000 (99.25%)\n",
            "\n",
            "Epoch 19\n"
          ]
        },
        {
          "name": "stderr",
          "output_type": "stream",
          "text": [
            "Loss=0.3406 LR=0.001426 Acc=91.11: 100%|██████████| 469/469 [00:23<00:00, 19.95it/s]\n"
          ]
        },
        {
          "name": "stdout",
          "output_type": "stream",
          "text": [
            "\n",
            "Test set: Avg loss: 0.0188, Accuracy: 9940/10000 (99.40%)\n",
            "\n",
            "Epoch 20\n"
          ]
        },
        {
          "name": "stderr",
          "output_type": "stream",
          "text": [
            "Loss=0.2850 LR=-0.000003 Acc=90.99: 100%|██████████| 469/469 [00:23<00:00, 19.91it/s]\n"
          ]
        },
        {
          "name": "stdout",
          "output_type": "stream",
          "text": [
            "\n",
            "Test set: Avg loss: 0.0190, Accuracy: 9936/10000 (99.36%)\n",
            "\n"
          ]
        }
      ],
      "source": [
        "import torch\n",
        "import torch.nn as nn\n",
        "import torch.nn.functional as F\n",
        "import torch.optim as optim\n",
        "from torchvision import datasets, transforms\n",
        "from torch.optim.lr_scheduler import OneCycleLR\n",
        "from torchsummary import summary\n",
        "from tqdm import tqdm\n",
        "import numpy as np\n",
        "\n",
        "use_cuda = torch.cuda.is_available()\n",
        "device = torch.device(\"cuda\" if use_cuda else \"cpu\")\n",
        "print(f\"Using device: {device}\")\n",
        "\n",
        "class Cutout(object):\n",
        "    def __init__(self, n_holes, length):\n",
        "        self.n_holes = n_holes\n",
        "        self.length = length\n",
        "\n",
        "    def __call__(self, img):\n",
        "        h, w = img.size(1), img.size(2)\n",
        "        mask = np.ones((h, w), np.float32)\n",
        "        for n in range(self.n_holes):\n",
        "            y, x = np.random.randint(h), np.random.randint(w)\n",
        "            y1, y2 = np.clip(y - self.length // 2, 0, h), np.clip(y + self.length // 2, 0, h)\n",
        "            x1, x2 = np.clip(x - self.length // 2, 0, w), np.clip(x + self.length // 2, 0, w)\n",
        "            mask[y1: y2, x1: x2] = 0.\n",
        "        mask = torch.from_numpy(mask).expand_as(img)\n",
        "        return img * mask\n",
        "\n",
        "torch.manual_seed(1)\n",
        "batch_size = 128\n",
        "train_transforms = transforms.Compose([\n",
        "    transforms.RandomAffine(degrees=7, translate=(0.1, 0.1), scale=(0.9, 1.1), shear=10, fill=0.1307),\n",
        "    transforms.ToTensor(),\n",
        "    transforms.Normalize((0.1307,), (0.3081,)),\n",
        "    Cutout(n_holes=1, length=16)\n",
        "])\n",
        "test_transforms = transforms.Compose([\n",
        "    transforms.ToTensor(),\n",
        "    transforms.Normalize((0.1307,), (0.3081,))\n",
        "])\n",
        "kwargs = {'num_workers': 4, 'pin_memory': True} if use_cuda else {}\n",
        "train_loader = torch.utils.data.DataLoader(datasets.MNIST('../data', train=True, download=True, transform=train_transforms), batch_size=batch_size, shuffle=True, **kwargs)\n",
        "test_loader = torch.utils.data.DataLoader(datasets.MNIST('../data', train=False, transform=test_transforms), batch_size=batch_size, shuffle=True, **kwargs)\n",
        "\n",
        "class Net(nn.Module):\n",
        "    def __init__(self):\n",
        "        super(Net, self).__init__()\n",
        "        self.convblock1 = nn.Sequential(\n",
        "            nn.Conv2d(in_channels=1, out_channels=16, kernel_size=3, padding=1, bias=False),\n",
        "            nn.BatchNorm2d(16), nn.ReLU(), nn.Dropout(0.1),\n",
        "            nn.Conv2d(in_channels=16, out_channels=32, kernel_size=3, padding=1, bias=False),\n",
        "            nn.BatchNorm2d(32), nn.ReLU(), nn.Dropout(0.1)\n",
        "        )\n",
        "        self.transblock1 = nn.Sequential(\n",
        "            nn.MaxPool2d(2, 2),\n",
        "            nn.Conv2d(in_channels=32, out_channels=16, kernel_size=1, bias=False),\n",
        "            nn.BatchNorm2d(16), nn.ReLU()\n",
        "        )\n",
        "        self.convblock2 = nn.Sequential(\n",
        "            nn.Conv2d(in_channels=16, out_channels=32, kernel_size=3, padding=1, bias=False),\n",
        "            nn.BatchNorm2d(32), nn.ReLU(), nn.Dropout(0.1),\n",
        "            nn.Conv2d(in_channels=32, out_channels=32, kernel_size=3, padding=1, bias=False),\n",
        "            nn.BatchNorm2d(32), nn.ReLU(), nn.Dropout(0.1)\n",
        "        )\n",
        "        self.gap = nn.AdaptiveAvgPool2d(1)\n",
        "        self.output_conv = nn.Conv2d(in_channels=32, out_channels=10, kernel_size=1, bias=False)\n",
        "\n",
        "    def forward(self, x):\n",
        "        x = self.convblock1(x)\n",
        "        x = self.transblock1(x)\n",
        "        x = self.convblock2(x)\n",
        "        x = self.gap(x)\n",
        "        x = self.output_conv(x)\n",
        "        x = x.view(-1, 10)\n",
        "        return F.log_softmax(x, dim=-1)\n",
        "\n",
        "model = Net().to(device)\n",
        "summary(model, input_size=(1, 28, 28))\n",
        "\n",
        "def train(model, device, train_loader, optimizer, scheduler):\n",
        "    model.train()\n",
        "    pbar = tqdm(train_loader)\n",
        "    correct, processed = 0, 0\n",
        "    for batch_idx, (data, target) in enumerate(pbar):\n",
        "        data, target = data.to(device), target.to(device)\n",
        "        optimizer.zero_grad()\n",
        "        output = model(data)\n",
        "        loss = F.nll_loss(output, target)\n",
        "        loss.backward()\n",
        "        optimizer.step()\n",
        "        scheduler.step()\n",
        "        pred = output.argmax(dim=1, keepdim=True)\n",
        "        correct += pred.eq(target.view_as(pred)).sum().item()\n",
        "        processed += len(data)\n",
        "        pbar.set_description(desc=f'Loss={loss.item():.4f} LR={scheduler.get_last_lr()[0]:.6f} Acc={100*correct/processed:0.2f}')\n",
        "\n",
        "def test(model, device, test_loader):\n",
        "    model.eval()\n",
        "    test_loss, correct = 0, 0\n",
        "    with torch.no_grad():\n",
        "        for data, target in test_loader:\n",
        "            data, target = data.to(device), target.to(device)\n",
        "            output = model(data)\n",
        "            test_loss += F.nll_loss(output, target, reduction='sum').item()\n",
        "            pred = output.argmax(dim=1, keepdim=True)\n",
        "            correct += pred.eq(target.view_as(pred)).sum().item()\n",
        "    test_loss /= len(test_loader.dataset)\n",
        "    print(f'\\nTest set: Avg loss: {test_loss:.4f}, Accuracy: {correct}/{len(test_loader.dataset)} ({100.*correct/len(test_loader.dataset):.2f}%)\\n')\n",
        "\n",
        "EPOCHS = 20\n",
        "model = Net().to(device)\n",
        "optimizer = optim.AdamW(model.parameters(), lr=0.01, weight_decay=0.001)\n",
        "scheduler = OneCycleLR(optimizer,\n",
        "                       max_lr=0.02,\n",
        "                       steps_per_epoch=len(train_loader),\n",
        "                       epochs=EPOCHS,\n",
        "                       anneal_strategy='linear')\n",
        "\n",
        "for epoch in range(1, EPOCHS + 1):\n",
        "    print(f\"Epoch {epoch}\")\n",
        "    train(model, device, train_loader, optimizer, scheduler)\n",
        "    test(model, device, test_loader)"
      ]
    }
  ],
  "metadata": {
    "accelerator": "GPU",
    "colab": {
      "gpuType": "T4",
      "provenance": []
    },
    "kernelspec": {
      "display_name": "Python 3",
      "name": "python3"
    },
    "language_info": {
      "name": "python"
    }
  },
  "nbformat": 4,
  "nbformat_minor": 0
}
